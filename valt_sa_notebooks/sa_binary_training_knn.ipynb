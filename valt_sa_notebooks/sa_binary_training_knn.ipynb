{
 "cells": [
  {
   "cell_type": "markdown",
   "metadata": {},
   "source": [
    "## Load already prepared data"
   ]
  },
  {
   "cell_type": "code",
   "execution_count": 17,
   "metadata": {
    "collapsed": true
   },
   "outputs": [],
   "source": [
    "import pandas as pd"
   ]
  },
  {
   "cell_type": "code",
   "execution_count": 18,
   "metadata": {
    "collapsed": false
   },
   "outputs": [],
   "source": [
    "X = pd.read_csv('../valt_sa_data/x.csv')\n",
    "y = pd.read_csv('../valt_sa_data/y.csv', header=None)[0]"
   ]
  },
  {
   "cell_type": "markdown",
   "metadata": {},
   "source": [
    "## Split data into training and test sets"
   ]
  },
  {
   "cell_type": "markdown",
   "metadata": {},
   "source": [
    "Let's perform a train/test split with 80% of the data in the training set and 20% of the data in the test set. We use `random_state=0` so that every execution yields the same result."
   ]
  },
  {
   "cell_type": "code",
   "execution_count": 19,
   "metadata": {
    "collapsed": false
   },
   "outputs": [],
   "source": [
    "from sklearn.cross_validation import train_test_split\n",
    "\n",
    "X_train, X_test, y_train, y_test = train_test_split(X,\n",
    "\t     y,\n",
    "\t     test_size=0.2,\n",
    "\t     random_state=0)"
   ]
  },
  {
   "cell_type": "markdown",
   "metadata": {},
   "source": [
    "# Train a sentiment classifier with logistic regression\n",
    "\n",
    "We will now use logistic regression to create a sentiment classifier on the training data.\n",
    "\n",
    "**Note:** This line may take a few minutes."
   ]
  },
  {
   "cell_type": "code",
   "execution_count": 21,
   "metadata": {
    "collapsed": false
   },
   "outputs": [],
   "source": [
    "from sklearn import neighbors\n",
    "\n",
    "n_neighbors = 15\n",
    "\n",
    "clf = neighbors.KNeighborsClassifier(n_neighbors, weights='uniform')\n",
    "model = clf.fit(X_train, y_train)"
   ]
  },
  {
   "cell_type": "markdown",
   "metadata": {
    "collapsed": false
   },
   "source": [
    "# Evaluate the trained model\n",
    "\n",
    "We will now use the cross-validation set to evaluate our model."
   ]
  },
  {
   "cell_type": "code",
   "execution_count": 22,
   "metadata": {
    "collapsed": false
   },
   "outputs": [
    {
     "name": "stdout",
     "output_type": "stream",
     "text": [
      "Prediction sample 1\n",
      "True positives: 132\n",
      "False positives: 45\n",
      "False negatives: 1\n",
      "True negatives: 3\n",
      "Precision: 0.745762711864\n",
      "Recall: 0.992481203008\n",
      "F-measure: 0.851612903226\n",
      "Accuracy: 0.745856353591\n",
      "Confusion matrix:\n",
      "[[  3  45]\n",
      " [  1 132]]\n"
     ]
    }
   ],
   "source": [
    "test_size = len(X_test)\n",
    "tp = 0\n",
    "fp = 0\n",
    "fn = 0\n",
    "tn = 0\n",
    "\n",
    "print 'Prediction sample', model.predict(X_test[0])[0]\n",
    "\n",
    "for i in range(0, test_size):\n",
    "    prediction = model.predict(X_test[i])[0]\n",
    "    if prediction == y_test[i]:\n",
    "        if y_test[i] == 1:\n",
    "            tp += 1\n",
    "        else:\n",
    "            tn += 1\n",
    "    else:\n",
    "        if prediction == 1:\n",
    "            fp += 1\n",
    "        else:\n",
    "            fn += 1\n",
    "    \n",
    "precision = float(tp) / (tp + fp)\n",
    "recall = float(tp) / (tp + fn)\n",
    "    \n",
    "print 'True positives:', tp\n",
    "print 'False positives:', fp\n",
    "print 'False negatives:', fn\n",
    "print 'True negatives:', tn\n",
    "\n",
    "print 'Precision:', precision\n",
    "print 'Recall:', recall\n",
    "print 'F-measure:', 2 * (precision * recall) / (precision + recall)\n",
    "print 'Accuracy:', float(tp + tn) / test_size\n",
    "\n",
    "from sklearn.metrics import confusion_matrix\n",
    "cm = confusion_matrix(y_test, model.predict(X_test))\n",
    "\n",
    "print 'Confusion matrix:'\n",
    "print cm"
   ]
  }
 ],
 "metadata": {
  "kernelspec": {
   "display_name": "Python 2",
   "language": "python",
   "name": "python2"
  },
  "language_info": {
   "codemirror_mode": {
    "name": "ipython",
    "version": 2
   },
   "file_extension": ".py",
   "mimetype": "text/x-python",
   "name": "python",
   "nbconvert_exporter": "python",
   "pygments_lexer": "ipython2",
   "version": "2.7.8"
  }
 },
 "nbformat": 4,
 "nbformat_minor": 0
}
