{
 "cells": [
  {
   "cell_type": "markdown",
   "metadata": {},
   "source": [
    "# Text data feature extraction"
   ]
  },
  {
   "cell_type": "markdown",
   "metadata": {},
   "source": [
    "# Data preperation\n",
    "# TODO modify text description of the steps\n",
    "\n",
    "We will use a dataset consisting of baby product reviews on Amazon.com."
   ]
  },
  {
   "cell_type": "code",
   "execution_count": 25,
   "metadata": {
    "collapsed": false
   },
   "outputs": [],
   "source": [
    "import pandas as pd"
   ]
  },
  {
   "cell_type": "code",
   "execution_count": 26,
   "metadata": {
    "collapsed": false
   },
   "outputs": [],
   "source": [
    "products = pd.read_csv(\"../valt_sa_data/amazon_baby.csv\")[['review', 'rating']]"
   ]
  },
  {
   "cell_type": "code",
   "execution_count": 27,
   "metadata": {
    "collapsed": true
   },
   "outputs": [],
   "source": [
    "products = products[0:10000]"
   ]
  },
  {
   "cell_type": "code",
   "execution_count": 28,
   "metadata": {
    "collapsed": false
   },
   "outputs": [],
   "source": [
    "# products"
   ]
  },
  {
   "cell_type": "markdown",
   "metadata": {},
   "source": [
    "## Build the word count vector for each review\n",
    "\n",
    "Let us explore a specific example of a baby product."
   ]
  },
  {
   "cell_type": "code",
   "execution_count": 29,
   "metadata": {
    "collapsed": false
   },
   "outputs": [
    {
     "data": {
      "text/plain": [
       "review    This has been an easy way for my nanny to reco...\n",
       "rating                                                    4\n",
       "Name: 9, dtype: object"
      ]
     },
     "execution_count": 29,
     "metadata": {},
     "output_type": "execute_result"
    }
   ],
   "source": [
    "products.iloc[9]"
   ]
  },
  {
   "cell_type": "markdown",
   "metadata": {},
   "source": [
    "Now, we will perform 2 simple data transformations:\n",
    "\n",
    "1. Remove punctuation using Python's built-in string functionality.\n",
    "2. Transform the reviews into word-counts."
   ]
  },
  {
   "cell_type": "code",
   "execution_count": 30,
   "metadata": {
    "collapsed": false
   },
   "outputs": [],
   "source": [
    "emoticons = [':)', ':))', ':)))', ':(', ':((', ':(((']\n",
    "\n",
    "def extract_emoticons(text):\n",
    "    emoticons_in_text = []\n",
    "    for emoticon in emoticons:\n",
    "        i = text.find(emoticon)\n",
    "        if i > -1:\n",
    "            emoticons_in_text.append(emoticon)\n",
    "    return emoticons_in_text"
   ]
  },
  {
   "cell_type": "code",
   "execution_count": 31,
   "metadata": {
    "collapsed": true
   },
   "outputs": [],
   "source": [
    "punctuation_to_remove = '!\"#$%&()*+,-./:;<=>?@[\\]^_`{|}~'\n",
    "\n",
    "def remove_punctuation(text):\n",
    "    return text.translate(None, punctuation_to_remove) \n",
    "\n",
    "pos_dict = {\n",
    "    'NN': 'n', 'VB': 'v', 'VBD': 'v', 'VBG': 'v', \n",
    "    'VBN': 'v', 'VBP': 'v', 'VBZ': 'v',\n",
    "    'JJ': 'a', 'JJR': 'a', 'JJS': 'a', 'JJT': 'a'\n",
    "}\n",
    "\n",
    "def get_pos_for_lematirzer(brown_post):\n",
    "    if not brown_post in pos_dict:\n",
    "        return 'n'\n",
    "    else:\n",
    "        return pos_dict[brown_post]\n",
    "\n",
    "    \n",
    "# TODO modify and use this list\n",
    "# Or just ignore it\n",
    "stop_words = ['i', 'me', 'my', 'myself', 'we', 'our', 'ours', 'ourselves', 'you',\n",
    " 'your', 'yours', 'yourself', 'yourselves', 'he', 'him', 'his', \n",
    " 'himself', 'she', 'her', 'hers', 'herself', 'it', 'its', 'itself', \n",
    " 'they', 'them', 'their', 'theirs', 'themselves', 'what', 'which', \n",
    " 'who', 'whom', 'this', 'that', 'these', 'those', 'am', 'is', 'are', \n",
    " 'was', 'were', 'be', 'been', 'being', 'have', 'has', 'had', 'having', \n",
    " 'do', 'does', 'did', 'doing', 'a', 'an', 'the', 'and', 'but', 'if', 'or', \n",
    " 'because', 'as', 'until', 'while', 'of', 'at', 'by', 'for', 'with', 'about', \n",
    " 'against', 'between', 'into', 'through', 'during', 'before', 'after', 'above', \n",
    " 'below', 'to', 'from', 'up', 'down', 'in', 'out', 'on', 'off', 'over', 'under', \n",
    " 'again', 'further', 'then', 'once', 'here', 'there', 'when', 'where', 'why', 'how', \n",
    " 'all', 'any', 'both', 'each', 'few', 'more', 'most', 'other', 'some', 'such', 'no',\n",
    " 'nor', 'not', 'only', 'own', 'same', 'so', 'than', 'too', 'very', 's', 't', 'can', \n",
    " 'will', 'just', 'don', 'should', 'now']    \n"
   ]
  },
  {
   "cell_type": "code",
   "execution_count": 32,
   "metadata": {
    "collapsed": false
   },
   "outputs": [
    {
     "name": "stdout",
     "output_type": "stream",
     "text": [
      "['use', \"n't\", \"'s\", 'baby', 'get', 'one', 'bottle', 'would', 'buy', 'love', 'great', 'like', 'time', u'month', 'old', 'easy', 'work', 'son', u'make', u'go', 'diaper', 'product', 'seat', 'little', 'tub', u'good', 'also', u'take', 'much', 'first', 'well', 'daughter', 'put', u'try', 'really', u'keep', 'pump', 'think', 'even', u'find', 'still', 'need', 'recommend', 'could', 'back', 'thing', u'bag', 'problem', 'child', 'purchase', u'come', 'toy', '2', 'year', 'gate', u'look', 'fit', 'give', 'nipple', 'two', u'want', 'sleep', 'big', 'since', 'potty', 'play', 'clean', 'around', 'pillow', \"'ve\", u'say', 'way', 'water', \"'m\", 'enough', 'side', 'sit', 'day', 'never', 'hold', 'every', 'small', u'know', u'start', 'leak', '3', 'car', 'change', u'week', 'night', 'best', u'seem', 'without', 'bath', 'new', 'right', 'open', 'room', '4', 'money', 'see', 'long', 'help', 'another', u'lot', 'wash', 'ca', 'hard', 'bottom', 'able', u'hand', u'nice', 'milk', 'avent', 'comfortable', 'size', 'place', 'item', 'many', u'wipe', 'part', 'worth', 'price', 'perfect', 'top', 'different', '5', 'cover', 'turn', 'sure', u'set', 'plastic', u'u', 'however', 'happy', 'pad', 'highly', 'easily', u'sound', u'warm', 'chair', 'smell', u'read', 'store', 'monitor', u'kid', 'though', 'second', 'something', u'cup', '6', u'large', 'end', 'husband', 'warmer', 'gift', \"'re\", u'move', 'bit', 'always', 'crib', u'feel', 'breast', 'stay', 'last', 'actually', 'far', u'minute', u'piece', 'house', 'bad', 'pretty', u'soft', 'star', 'design', 'table', 'home', 'friend', 'newborn', 'away', 'sling', '1', u'color', 'extra', 'head', 'wish', 'music', 'pull', 'break', 'boy', 'almost', 'regular', 'infant', u'order', 'definitely', u'tell', u'toddler', 'leave', 'receive', u'decide', 'champ', \"'d\", u'high', \"'ll\", 'pail', 'mom', 'light', 'fall', 'let', 'stick', 'safe', 'genie', 'yet', 'anything', 'quality', 'bed', 'food', 'ever', 'must', 'better', 'brand', 'toilet', u'shower', 'save', u'return', 'difficult', 'dry', 'stroller', 'support', 'fine', 'hear', 'anyone', u'bear', 'carry', u'sheet', 'may', 'inside', 'especially', 'several', 'waste', 'couple', 'everything', 'people', 'wonderful', 'close', u'parent', 'fact', 'door', 'odor', 'throw', 'less', 'spend', 'system', 'instead', 'sturdy', 'plus', u'push', 'cheap', 'together', 'foot', 'sometimes', 'pack', u'strap', 'quite', 'pain', 'refill', 'either', 'wo', 'carrier', 'expensive', 'figure', 'three', u'enjoy', u'slide', u'base', 'run', 'air', u'worry', 'battery', '12', 'next', u'issue', '8', 'sink', 'formula', 'lid', 'travel', u'box', u'wear', 'dr', u'remove', 'others', 'free', 'playtex', 'ago', 'brown', 'position', 'reason', 'floor', 'full', u'space', '10', 'probably', 'medela', 'allow', 'install', \"'\", 'replace', 'stop', 'eat', 'kitchen', 'else', 'simple', 'safety', u'switch', 'fill', 'already', 'hot', 'blanket', u'hour', 'pregnant', 'quickly', 'whole', u'handle', 'perfectly', 'hole', 'gas', 'nothing', 'secure', 'glad', 'absolutely', 'latch', 'stand', u'girl', 'hang', 'etc', 'idea', u'feature', 'shape', 'walk', 'fast', 'add', 'grow', u'feed', 'wall', 'become', 'noise', 'least', 'flow', u'expect', u'lock', 'suction', 'complaint', u'ring', u'fold', 'cold', 'although', u'slip', 'maybe', 'amount', 'front', 'overall', 'liner', 'roll', 'nurse', u'snap', 'cause', 'finally', '9', 'trash', 'might', 'attach', 'feeding', 'half', 'heat', u'learn', 'area', 'bathroom', u'kind', u'face', 'cute', 'completely', 'case', u'step', u'leg', 'wide', 'low', 'due', 'twin', 'mine', 'trouble', u'begin', 'cloth', 'show', u'instruction', 'mobile', 'oz', 'fun', 'picture', 'life', u'notice', 'adjust', 'deal', u'watch', u'lay', 'middle', 'experience', '7', 'bathtub', u'screw', 'mother', u'breastfeed', 'empty', 'job', u'happen', 'everyone', 'pregnancy', 'favorite', 'loud', 'ready', 'often', 'cost', 'point', u'plug', u'pick', u'cry', 'heavy', u'wake', 'splash', 'arm', 'plan', 'booster', u'button', 'mind', u'register', u'call', 'electric', 'book', 'unit', 'soon', 'drop', 'guard', 'rather', u'mean', 'cut', 'wait', 'reach', u'instal', 'live', 'yes', 'pay', 'spit', 'later', 'suppose', 'dirty', u'trip', 'longer', 'white', 'family', 'amazon', u'edge', 'age', 'durable', '20', 'model', 'type', 'body', 'material', 'option', 'replacement', 'extremely', 'super', 'huge', 'outside', 'line', 'reviewer', 'realize', 'hurt', 'apart', 'someone', 'young', 'short', 'rest', 'stage', 'matter', 'guess', 'real', 'wet', 'neck', 'stool', 'bjorn', 'provide', 'hospital', 'nursing', 'along', u'bring', 'dishwasher', 'excellent', 'company', 'convenient', 'four', 'tight', 'mess', 'pleased', ':)', u'lose', 'pop', 'machine', 'carseat', 'mirror', 'storage', 'onto', u'check', u'catch', 'weight', u'fee', 'volume', 'suck', '15', 'simply', 'saw', 'prevent', 'static', 'within', u'suggest', 'wife', u'us', 'disposable', 'useful', 'level', 'care', 'kick', 'style', 'mattress', 'wrong', 'tall', 'dont', u'include', 'unless', u'send', 'mat', 'ok', 'strong', 'constantly', 'anyway', 'seal', 'direction', 'fabric', 'mouth', 'clear', 'corner', u'pee', 'inch', 'garbage', 'standard', 'otherwise', 'usually', 'believe', 'properly', u'choose', 'flat', u'mention', 'prefer', 'control', 'dog', u'train', 'sack', 'hit', 'hope', u'le', 'course', 'slow', 'sell', 'continue', 'asleep', 'consider', 'nursery', 'quick', u'double', 'tray', 'height', 'drain', 'uncomfortable', 'tip', 'early', 'ask', 'disappointed', u'compare', 'entire', '1st', 'purpose', 'dekor', 'protect', 'awesome', u'arrive', 'stuff', 'thin', 'past', 'bulky', u'hat', 'tiny', 'follow', 'research', u'spill', 'grandson', 'felt', u'annoy', 'helpful', 'boppy', u'stair', 'immediately', 'require', 'version', 'foam', 'anymore', 'recently', 'graco', u'cap', u'cube', u'outgrow', 'imagine', 'thick', 'market', u'assemble', 'bar', 'r', 'complain', 'special', 'grab', 'forward', 'flip', 'handy', 'touch', '18', 'plenty', u'solid', 'twice', 'nicely', 'amp', 'difference', u'finger', 'snoogle', 'training', 'agree', 'blue', u'number', 'rubber', 'opening', 'walker', 'adult', 'alot', 'exactly', 'contain', u'surface', 'burp', 'wood', 'sippy', 'wrap', 'bright', 'nearly', 'please', u'extension', 'write', 'impossible', 'online', 'twist', 'toss', 'shield', 'anywhere', u'choice', 'pressure', 'morning', 'totally', u'mo', 'negative', 'belly', u'vent', 'horrible', '30', 'belt', 'customer', 'third', 'climb', 'evenflo', 'temperature', 'drink', 'saver', 'manual', u'eye', u'match', 'insert', 'power', 'chew', 'isis', 'correctly', 'comfort', 'bather', 'bowl', u'scream', u'note', 'stink', u'kit', 'everywhere', u'test', u'guy', 'fell', 'terrible', u'ounce', 'package', 'counter', u'crack', 'sister', 'across', u'hop', 'straight', 'five', 'cotton', 'gerber', 'summer', 'shut', 'portable', u'build', 'single', 'tie', u'fix', 'ease', u'knee', u'frame', 'daily', 'important', 'christmas', 'spoon', 'press', 'originally', 'tummy', 'except', u'comment', 'n', u'listen', 'birth', 'tape', 'clothes', u'microwave', 'ventaire', 'container', u'talk', 'hook', u'near', 'forget', 'comfy', 'six', 'pedal', 'babies', u'tend', 'underneath', 'bought', 'sterilizer', 'loose', u'lb', 'sponge', 'cool', 'today', 'unfortunately', 'towel', 'available', 'shop', 'cord', 'bc', 'bother', 'state', u'shoulder', 'service', 'luck', u'pour', 'manufacturer', 'comfortably', 'tighten', 'glass', u'block', u'cushion', 'lift', 'person', 'remember', 'finish', '11', u'sterilize', 'yard', 'highchair', u'swing', u'wheel', 'zipper', 'nap', 'bathe', 'loves', 'phone', 'rip', 'colic', u'damage', u'crawl', u'supply', 'ride', 'pacifier', 'attention', 'lean', 'playpen', 'video', 'mechanism', u'transition', 'thank', 'restaurant', 'understand', 'alone', u'pound', 'poor', 'spray', 'crazy', u'device', 'halo', 'reflux', 'careful', 'slightly', u'offer', 'tear', 'truly', 'similar', 'mount', 'unlike', u'pocket', u'soak', 'hassle', 'fantastic', u'create', 'woman', 'instrument', 'registry', 'sleeper', 'pink', 'normal', u'strip', 'sort', 'velcro', 'spot', 'everytime', u'surprise', 'hate', 'investment', u'concern', 'yr', 'useless', '23', 'rinse', u'search', 'fairly', 'barely', 'thanks', u'poop', 'avoid', 'wonder', 'behind', 'fisher', u'drive', 'ball', 'contact', u'shake', 'mark', u'recline', 'breastmilk', 'true', 'interested', 'cleaning', u'visit', 'hip', 'duck', u'knob', 'result', 'grandma', 'cd', 'penny', '100', 'adhesive', 'red', 'song', u'boil', 'local', 'possible', 'original', 'currently', 'green', 'skin', 'express', 'safer', 'center', 'doesnt', u'serve', 'cabinet', 'basically', 'mommy', 'natural', 'upstairs', 'opinion', 'bend', 'bra', 'eventually', 'securely', 'lie', 'key', 'addition', 'browns', u'discover', u'bubble', u'buckle', 'inexpensive', 'quiet', 'okay', 'removable', 'stack', u'disappoint', u'mix', 'solution', 'bassinet', u'bib', 'didnt', u'rail', 'ton', 'metal', u'separate', 'afraid', u'pass', 'process', 'mistake', 'years', 'basket', 'compartment', 'bunch', 'multiple', 'snug', '2nd', u'smile', 'bedding', 'directly', u'miss', 'washing', 'breastfed', u'accident', 'outlet', 'bumper', 'bedroom', 'compact', u'teethe', 'frequently', 'cant', u'depend', u'amaze', 'main', 'everyday', u'name', 'holder', u'list', 'beautiful', u'reduce', 'chance', 'leather', 'choke', 'awful', 'clip', 'effective', 'player', u'stain', 'nurser', 'gym', '14', 'mesh', u'brush', 'exact', 'bump', 'musical', 'certainly', u'manage', 'colorful', 'dish', 'definately', 'whether', 'busy', u'ship', 'forth', 'living', 'lysol', 'grip', 'downstairs', 'per', 'remote', 'spout', 'tube', 'flimsy', 'concept', 'ear', 'portion', 'prop', 'value', u'entertain']\n"
     ]
    }
   ],
   "source": [
    "import nltk\n",
    "from nltk.stem import WordNetLemmatizer\n",
    "from collections import Counter\n",
    "\n",
    "sentence = \"I am a big boy:) I'd love to eat ice-cream right now, and my friend goes shopping. By the way, Danylo already went.\"\n",
    "\n",
    "my_words_list = []\n",
    "my_words = set()\n",
    "\n",
    "def analyze_review(text):\n",
    "    global my_words\n",
    "    emoticons_features = extract_emoticons(text)\n",
    "    text_without_punctuation = remove_punctuation(text)\n",
    "    tokens = nltk.word_tokenize(text_without_punctuation)\n",
    "    tagged_tokens = nltk.pos_tag(tokens)\n",
    "    # TODO apply Turney alorithm\n",
    "    lemmatizer = WordNetLemmatizer()\n",
    "    \n",
    "    tokens_prepared_for_lemmatization = [(t[0], get_pos_for_lematirzer(t[1])) for t in tagged_tokens]\n",
    "    lemmas = [lemmatizer.lemmatize(tpl[0], tpl[1]) for tpl in tokens_prepared_for_lemmatization]\n",
    "    \n",
    "    filtered_lemmas = []\n",
    "    for lemma in lemmas:\n",
    "        lemma_l = lemma.lower()\n",
    "        if not lemma_l in stop_words:\n",
    "            filtered_lemmas.append(lemma_l)\n",
    "    \n",
    "    words = filtered_lemmas + emoticons_features\n",
    "    for word in words:\n",
    "        if not word in ['review', 'rating']:\n",
    "            my_words_list.append(word)\n",
    "            my_words.add(word)\n",
    "    return words\n",
    "\n",
    "# analyze_review(sentence)\n",
    "\n",
    "analyzed_reviews = products['review'].apply(str).apply(analyze_review)\n",
    "\n",
    "from collections import Counter\n",
    "\n",
    "count = Counter(my_words_list)\n",
    "#print(\"after: len(count) = %s\") %(len(count))\n",
    "#print(\"most_common = %s\") %(count.most_common(1000))\n",
    "\n",
    "most_common_words = map(lambda x: x[0], count.most_common(1000))\n",
    "\n",
    "print most_common_words\n",
    "#TODO apply lower in the right moment"
   ]
  },
  {
   "cell_type": "code",
   "execution_count": 33,
   "metadata": {
    "collapsed": false
   },
   "outputs": [
    {
     "name": "stdout",
     "output_type": "stream",
     "text": [
      "21721\n"
     ]
    }
   ],
   "source": [
    "print len(my_words)"
   ]
  },
  {
   "cell_type": "code",
   "execution_count": 34,
   "metadata": {
    "collapsed": false
   },
   "outputs": [],
   "source": [
    "#significant_words = ['love', 'great', 'easy', 'old', 'little', 'perfect', 'loves', \n",
    "#      'well', 'able', 'car', 'broke', 'less', 'even', 'waste', 'disappointed', \n",
    "#      'work', 'product', 'money', 'would', 'return']\n",
    "\n",
    "significant_words = most_common_words + emoticons # list(my_words) #[0:500]\n",
    "        \n",
    "def count_number_of_significant_words(text):\n",
    "    words = text['review']\n",
    "    word_dict = {}\n",
    "    for word in significant_words:\n",
    "        word_dict[word] = 0\n",
    "    for word in words:\n",
    "        if word in significant_words:\n",
    "            if word not in word_dict:\n",
    "                word_dict[word] = 1\n",
    "            else:\n",
    "                word_dict[word] = 1\n",
    "                #word_dict[word] = word_dict[word] + 1\n",
    "                #pass\n",
    "    significant_words_counts = []\n",
    "    for word in significant_words:\n",
    "        significant_words_counts.append(word_dict[word]) \n",
    "    return pd.Series(significant_words_counts, index=significant_words)\n",
    "\n",
    "\n",
    "newcols = pd.DataFrame(analyzed_reviews).apply(count_number_of_significant_words, axis=1)\n",
    "newcols.columns = significant_words\n",
    "\n",
    "products_with_words = products.join(newcols)"
   ]
  },
  {
   "cell_type": "markdown",
   "metadata": {},
   "source": [
    "Now, let us explore what the sample example above looks like after these 2 transformations."
   ]
  },
  {
   "cell_type": "code",
   "execution_count": 35,
   "metadata": {
    "collapsed": false
   },
   "outputs": [
    {
     "data": {
      "text/plain": [
       "review        This has been an easy way for my nanny to reco...\n",
       "rating                                                        4\n",
       "use                                                           0\n",
       "n't                                                           1\n",
       "'s                                                            0\n",
       "baby                                                          1\n",
       "get                                                           0\n",
       "one                                                           1\n",
       "bottle                                                        0\n",
       "would                                                         1\n",
       "buy                                                           0\n",
       "love                                                          0\n",
       "great                                                         0\n",
       "like                                                          0\n",
       "time                                                          0\n",
       "month                                                         0\n",
       "old                                                           0\n",
       "easy                                                          1\n",
       "work                                                          0\n",
       "son                                                           0\n",
       "make                                                          0\n",
       "go                                                            0\n",
       "diaper                                                        0\n",
       "product                                                       0\n",
       "seat                                                          0\n",
       "little                                                        0\n",
       "tub                                                           0\n",
       "good                                                          0\n",
       "also                                                          0\n",
       "take                                                          0\n",
       "                                    ...                        \n",
       "certainly                                                     0\n",
       "manage                                                        0\n",
       "colorful                                                      0\n",
       "dish                                                          0\n",
       "definately                                                    0\n",
       "whether                                                       0\n",
       "busy                                                          0\n",
       "ship                                                          0\n",
       "forth                                                         0\n",
       "living                                                        0\n",
       "lysol                                                         0\n",
       "grip                                                          0\n",
       "downstairs                                                    0\n",
       "per                                                           0\n",
       "remote                                                        0\n",
       "spout                                                         0\n",
       "tube                                                          0\n",
       "flimsy                                                        0\n",
       "concept                                                       0\n",
       "ear                                                           0\n",
       "portion                                                       0\n",
       "prop                                                          0\n",
       "value                                                         0\n",
       "entertain                                                     0\n",
       ":)                                                            0\n",
       ":))                                                           0\n",
       ":)))                                                          0\n",
       ":(                                                            0\n",
       ":((                                                           0\n",
       ":(((                                                          0\n",
       "Name: 9, dtype: object"
      ]
     },
     "execution_count": 35,
     "metadata": {},
     "output_type": "execute_result"
    }
   ],
   "source": [
    "products_with_words.iloc[9]"
   ]
  },
  {
   "cell_type": "markdown",
   "metadata": {},
   "source": [
    "## Save prepared data into a file"
   ]
  },
  {
   "cell_type": "code",
   "execution_count": 36,
   "metadata": {
    "collapsed": false
   },
   "outputs": [],
   "source": [
    "X = products_with_words[significant_words]\n",
    "y = products_with_words['rating']\n",
    "X.to_csv('../valt_sa_data/x_m.csv', index=False)\n",
    "y.to_csv('../valt_sa_data/y_m.csv', index=False)"
   ]
  }
 ],
 "metadata": {
  "kernelspec": {
   "display_name": "Python 2",
   "language": "python",
   "name": "python2"
  },
  "language_info": {
   "codemirror_mode": {
    "name": "ipython",
    "version": 2
   },
   "file_extension": ".py",
   "mimetype": "text/x-python",
   "name": "python",
   "nbconvert_exporter": "python",
   "pygments_lexer": "ipython2",
   "version": "2.7.8"
  }
 },
 "nbformat": 4,
 "nbformat_minor": 0
}
